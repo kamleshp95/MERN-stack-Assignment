{
 "cells": [
  {
   "cell_type": "markdown",
   "id": "934f23a2",
   "metadata": {},
   "source": [
    "# Assignment 5 Solutions"
   ]
  },
  {
   "cell_type": "markdown",
   "id": "0eae3e09",
   "metadata": {},
   "source": [
    "### 1. Apart from MERN Stack, what other stacks are you familiar with?"
   ]
  },
  {
   "cell_type": "raw",
   "id": "2a31fe87",
   "metadata": {},
   "source": [
    "Ans: Apart fron MERN stack I'm familiar with MEVN stack.\n",
    "\n",
    "In MEVN stack, React is replaced by Vuejs as a front-endframework. This framework has shown immense popularity over the last few years. Its popularity is expected to continue to 2021 as it is a lightweight solution compared to Angular. Vuejs offers basic out-of-the-box functionality. This functionality can be extended using third-party services. Vuejs combines the best features of Angular and React to give you great performance and a rich set of tools."
   ]
  },
  {
   "cell_type": "markdown",
   "id": "dd384434",
   "metadata": {},
   "source": [
    "### 2. In ExpressJs, what do you mean by middleware?"
   ]
  },
  {
   "cell_type": "raw",
   "id": "a159b451",
   "metadata": {},
   "source": [
    "Ans: Express.js is a routing and Middleware framework for handling the different routing of the webpage and it works between the request and response cycle. Middleware gets executed after the server receives the request and before the controller actions send the response. Middleware has the access to the request object, responses object, and next, it can process the request before the server send a response. An Express-based application is a series of middleware function calls.\n",
    "Middleware can process request objects multiple times before the server works for that request. It can be used to add logging and authentication functionality.Middleware improves client-side rendering performance. Also it's used for setting some specific HTTP headers and helps for Optimization and better performance.\n",
    "Middleware can be chained from one to another, Hence creating a chain of functions that are executed in order. The last function sends the response back to the browser. So, before sending the response back to the browser the different middleware process the request."
   ]
  },
  {
   "cell_type": "markdown",
   "id": "d0dc57e0",
   "metadata": {},
   "source": [
    "### 3. What exactly do you mean when you say \"sharding\"?"
   ]
  },
  {
   "cell_type": "raw",
   "id": "ae0949e3",
   "metadata": {},
   "source": [
    "Ans: When we are encountered with large datasets, we can implement the Sharding of Data. Meaning, the large datasets are split and shared across multiple machines. The massive data can cause unexpected problems, but the implementation of sharding can be useful. Sharding is the process of database partitioning and spreading across multiple machines, while the replication is the process of making multiple copies of the database. The data is distributed over multiple collections, and these collections are known as “Shards”.\n",
    "In DBMS, Sharding is a type of DataBase partitioning in which a large DataBase is divided or partitioned into smaller data, also known as shards. These shards are not only smaller, but also faster and hence easily manageable."
   ]
  },
  {
   "cell_type": "markdown",
   "id": "cd3e633a",
   "metadata": {},
   "source": [
    "### 4. Describe a few examples Where can the MERN Stack be used?"
   ]
  },
  {
   "cell_type": "raw",
   "id": "8f640dc6",
   "metadata": {},
   "source": [
    "Ans: Nonetheless, it is ideal for cloud-based projects where you require intensive JSON and dynamic web interfaces. A few examples of purposes where MERN is used are:\n",
    "\n",
    "* Calendars and To-do Apps\n",
    "                            A calendar or a to-do app is a rudimentary project that can tell you a lot about the mechanics of the MERN stack. You can design the frontend, i.e., the interface of the calendar or to-do app using ReactJS. The data to be stored, accessed, modified, shown in the to-do app is made possible using MongoDB.\n",
    "\n",
    "* Interactive Forums\n",
    "                     Another suitable use case for MERN is an interactive forum, which can be a social media platform or a website that allows users to share messages and communicate. The topic of the interactive forum may or may not be predefined.\n",
    "\n",
    "* Social Media Product\n",
    "                        An interactive forum is just one use of the MERN stack for social media. These include ads, posts, a mini web app embedded in the social media page, etc."
   ]
  },
  {
   "cell_type": "markdown",
   "id": "5c56a65f",
   "metadata": {},
   "source": [
    "### 5. What do you mean when you say \"threads\"?"
   ]
  },
  {
   "cell_type": "raw",
   "id": "8279e94a",
   "metadata": {},
   "source": [
    "Ans: Threads is a part of a program that can execute independently of other parts. This is the smallest sequence of instructions that can be managed independently by a scheduler within a broader operating system. Multiple threads can exist in a single process and share computer resources, whereas multiple processes do not share the same resources. Operating systems that support multithreading enable programmers to design programs with threaded parts that can execute concurrently. Single-threaded operating systems, on the other hand, process one command at a time."
   ]
  }
 ],
 "metadata": {
  "kernelspec": {
   "display_name": "Python 3",
   "language": "python",
   "name": "python3"
  },
  "language_info": {
   "codemirror_mode": {
    "name": "ipython",
    "version": 3
   },
   "file_extension": ".py",
   "mimetype": "text/x-python",
   "name": "python",
   "nbconvert_exporter": "python",
   "pygments_lexer": "ipython3",
   "version": "3.8.8"
  }
 },
 "nbformat": 4,
 "nbformat_minor": 5
}
