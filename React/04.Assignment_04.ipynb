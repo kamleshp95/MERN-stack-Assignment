{
 "cells": [
  {
   "cell_type": "markdown",
   "id": "61e470eb",
   "metadata": {},
   "source": [
    "# Assignment 4 Solutions"
   ]
  },
  {
   "cell_type": "markdown",
   "id": "acaa0c85",
   "metadata": {},
   "source": [
    "### 1. What exactly is a MERN stack, and what does it imply?"
   ]
  },
  {
   "cell_type": "markdown",
   "id": "2a7d1096",
   "metadata": {},
   "source": [
    "Ans: MERN stands for MongoDB, Express, React, Node, after the four key technologies that make up the stack.\n",
    "\n",
    "    MongoDB - document database\n",
    "    Express(.js) - Node.js web framework\n",
    "    React(.js) - a client-side JavaScript framework\n",
    "    Node(.js) - the premier JavaScript web server\n",
    "\n",
    "Express and Node make up the middle (application) tier. Express.js is a server-side web framework, and Node.js the popular and powerful JavaScript server platform. Regardless of which variant you choose, MERN is the ideal approach to working with JavaScript and JSON, all the way through. \n",
    "\n",
    "When we use the MERN stack, you work with React to implement the presentation layer, Express and Node to make up the middle or application layer, and MongoDB to create the database layer.\n",
    "\n",
    "In this MERN stack, we will utilize these four technologies to develop a basic application that is able to record the information and then display it using a React."
   ]
  },
  {
   "cell_type": "markdown",
   "id": "1d693d02",
   "metadata": {},
   "source": [
    "### 2. What exactly is REACT JS, and how does it work?"
   ]
  },
  {
   "cell_type": "markdown",
   "id": "1883eace",
   "metadata": {},
   "source": [
    "Ans: React is a declarative, efficient, and flexible JavaScript library for building user interfaces. It’s ‘V’ in MVC. ReactJS is an open-source, component-based front end library responsible only for the view layer of the application. It is maintained by Facebook.React uses a declarative paradigm that makes it easier to reason about your application and aims to be both efficient and flexible. It designs simple views for each state in your application, and React will efficiently update and render just the right component when your data changes. The declarative view makes your code more predictable and easier to debug.\n",
    "\n",
    "##### How does it work:  \n",
    "While building client-side apps, a team of Facebook developers realized that the DOM is slow (The Document Object Model (DOM) is an application programming interface (API) for HTML and XML documents. It defines the logical structure of documents and the way a document is accessed and manipulated.). So, to make it faster, React implements a virtual DOM that is basically a DOM tree representation in JavaScript. So when it needs to read or write to the DOM, it will use the virtual representation of it. Then the virtual DOM will try to find the most efficient way to update the browser’s DOM.\n",
    "Unlike browser DOM elements, React elements are plain objects and are cheap to create. React DOM takes care of updating the DOM to match the React elements. The reason for this is that JavaScript is very fast and it’s worth keeping a DOM tree in it to speed up its manipulation.\n",
    "Although React was conceived to be used in the browser, because of its design it can also be used in the server with Node.js. \n"
   ]
  },
  {
   "cell_type": "markdown",
   "id": "6008f074",
   "metadata": {},
   "source": [
    "### 3. How does REACT JS help you?"
   ]
  },
  {
   "cell_type": "markdown",
   "id": "adb40ce0",
   "metadata": {},
   "source": [
    "Ans: React allows developers to create large web applications that can change data, without reloading the page. The main purpose of React is to be fast, scalable, and simple. It works only on user interfaces in the application. This corresponds to the view in the MVC template. \n",
    "how React help us: \n",
    "1. Simplicity: \n",
    "            ReactJS is just simpler to grasp right away. The component-based approach, well-defined lifecycle, and use of just plain JavaScript make React very simple to learn, build a professional web (and mobile applications), and support it. React uses a special syntax called JSX which allows you to mix HTML with JavaScript. This is not a requirement; Developer can still write in plain JavaScript but JSX is much easier to use.\n",
    " \n",
    "2. Easy to learn:\n",
    "                 Anyone with a basic previous knowledge in programming can easily understand React while Angular and Ember are referred to as ‘Domain-specific Language’, implying that it is difficult to learn them. To react, you just need basic knowledge of CSS and HTML.\n",
    " \n",
    "3. Native Approach:\n",
    "                   React can be used to create mobile applications (React Native). And React is a diehard fan of reusability, meaning extensive code reusability is supported. So at the same time, we can make IOS, Android and Web applications.\n",
    " \n",
    "4. Data Binding:\n",
    "                React uses one-way data binding and an application architecture called Flux controls the flow of data to components through one control point – the dispatcher. It's easier to debug self-contained components of large ReactJS apps.\n",
    " \n",
    "5. Performance:\n",
    "               React does not offer any concept of a built-in container for dependency. You can use Browserify, Require JS, EcmaScript 6 modules which we can use via Babel, ReactJS-di to inject dependencies automatically.\n",
    " \n",
    "6. Testability:\n",
    "               ReactJS applications are super easy to test. React views can be treated as functions of the state, so we can manipulate with the state we pass to the ReactJS view and take a look at the output and triggered actions, events, functions, etc. \n",
    " "
   ]
  },
  {
   "cell_type": "markdown",
   "id": "3f118b40",
   "metadata": {},
   "source": [
    "### 4. What are MongoDB's most important features?"
   ]
  },
  {
   "cell_type": "markdown",
   "id": "9c0367b6",
   "metadata": {},
   "source": [
    "Ans: Features of MongoDB –\n",
    " \n",
    "* Schema-less Database: \n",
    "                     It is the great feature provided by the MongoDB. A Schema-less database means one collection can hold different types of documents in it. Or in other words, in the MongoDB database, a single collection can hold multiple documents and these documents may consist of the different numbers of fields, content, and size. It is not necessary that the one document is similar to another document like in the relational databases. Due to this cool feature, MongoDB provides great flexibility to databases.\n",
    "                     \n",
    "* Document Oriented: \n",
    "                  In MongoDB, all the data stored in the documents instead of tables like in RDBMS. In these documents, the data is stored in fields(key-value pair) instead of rows and columns which make the data much more flexible in comparison to RDBMS. And each document contains its unique object id.\n",
    "                  \n",
    "* Indexing: \n",
    "         In MongoDB database, every field in the documents is indexed with primary and secondary indices this makes easier and takes less time to get or search data from the pool of the data. If the data is not indexed, then database search each document with the specified query which takes lots of time and not so efficient.\n",
    "\n",
    "* Scalability: \n",
    "            MongoDB provides horizontal scalability with the help of sharding. Sharding means to distribute data on multiple servers, here a large amount of data is partitioned into data chunks using the shard key, and these data chunks are evenly distributed across shards that reside across many physical servers. It will also add new machines to a running database.\n",
    "\n",
    "* Replication: \n",
    "            MongoDB provides high availability and redundancy with the help of replication, it creates multiple copies of the data and sends these copies to a different server so that if one server fails, then the data is retrieved from another server.\n",
    "\n",
    "* Aggregation: \n",
    "            It allows to perform operations on the grouped data and get a single result or computed result. It is similar to the SQL GROUPBY clause. It provides three different aggregations i.e, aggregation pipeline, map-reduce function, and single-purpose aggregation methods.\n",
    "\n",
    "* High Performance: \n",
    "                 The performance of MongoDB is very high and data persistence as compared to another database due to its features like scalability, indexing, replication, etc."
   ]
  },
  {
   "cell_type": "markdown",
   "id": "639b5891",
   "metadata": {},
   "source": [
    "### 5. What is the difference between REACT JS and Angular JS?"
   ]
  },
  {
   "cell_type": "markdown",
   "id": "962956d2",
   "metadata": {},
   "source": [
    "Ans: Though both react js and angular seems similar, but still there is significant contrast that differentiates both React.js and Angular, which is given below.\n",
    "                         \n",
    "* Used as :-\t\n",
    "             React.js is a JavaScript library. As it indicates react js updates only the virtual DOM is present and the data flow is always in a single direction.\n",
    "             Angular is a framework. Angular updates the Real DOM and the data flow is ensured in the architecture in both directions.\n",
    "\n",
    "* Architecture :-\t\n",
    "                React.js is more simplified as it follows MVC ie., Model View Control. This like angular includes features such as navigation but this can be achieved only with certain libraries like Redux and Flux. Needs more configuration and integration.\n",
    "                The architecture of angular on the other hand is a bit complex as it follows MVVM models ie., Model View-ViewModel. This includes lots of tools and other features required for navigation, routing, and various other functionalities.\n",
    "\n",
    "* Performance :-\n",
    "                React.js holds JSX hence the usage of HTML codes and syntax is enabled. But this doesn’t make react js a subset of HTML. This is purely JavaScript-based.\n",
    "                Angular, on the other, is a mere subset of HTML.\n",
    "\n",
    "* Preference :-\n",
    "                React.js is preferred when the dynamic content needed is intensive. As react js holds more straightforward programming and since it is reliable many apps such as Instagram, Facebook, and Twitter still prefer to react js over angular.\n",
    "                Angular is platform-independent and hence is compatible to work in any platform. Hence, the HTML app which is compatible with all the browsers can prefer angular. One major app which uses angular is YouTube.\n",
    "\n",
    "* Written :-\n",
    "            React.js written in JavaScript.\n",
    "            Angular Written in Microsoft’s Typescript language, which is a superset of ECMAScript 6 (ES6).\n",
    "\n",
    "* Dependency Injection :-\n",
    "             React.js Does not use the Dependency Injection concept.\n",
    "             Angular Hierarchical Dependency Injection system used."
   ]
  }
 ],
 "metadata": {
  "kernelspec": {
   "display_name": "Python 3",
   "language": "python",
   "name": "python3"
  },
  "language_info": {
   "codemirror_mode": {
    "name": "ipython",
    "version": 3
   },
   "file_extension": ".py",
   "mimetype": "text/x-python",
   "name": "python",
   "nbconvert_exporter": "python",
   "pygments_lexer": "ipython3",
   "version": "3.8.8"
  }
 },
 "nbformat": 4,
 "nbformat_minor": 5
}
