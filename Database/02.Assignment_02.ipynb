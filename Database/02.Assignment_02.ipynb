{
 "cells": [
  {
   "cell_type": "markdown",
   "id": "7f4a004c",
   "metadata": {},
   "source": [
    "# Assignment 2 Solutions"
   ]
  },
  {
   "cell_type": "markdown",
   "id": "16a7cf52",
   "metadata": {},
   "source": [
    "### 1. What is MongoDB replication?"
   ]
  },
  {
   "cell_type": "markdown",
   "id": "6f233424",
   "metadata": {},
   "source": [
    "Ans: MongoDB replication is the process of creating a copy of the same data set in more than one MongoDB server. This can be achieved by using a Replica Set. A replica set is a group of MongoDB instances that maintain the same data set and pertain to any mongod process.\n",
    "\n",
    "#### Replication enables database administrators to provide:\n",
    "* Data redundancy\n",
    "* High availability of data\n",
    "\n",
    "Maintaining multiple MongoDB servers with the same data provides distributed access to the data while increasing the fault tolerance of the database by providing backups.\n",
    "Additionally, replication can also be used as a part of load balancing, where read and write operations can be distributed across all the instances depending on the use case.\n",
    "\n",
    "#### How MongoDB replication works\n",
    "MongoDB handles replication through a Replica Set, which consists of multiple MongoDB nodes that are grouped together as a unit.\n",
    "A Replica Set requires a minimum of three MongoDB nodes:\n",
    "* One of the nodes will be considered the primary node that receives all the write operations.\n",
    "* The others are considered secondary nodes. These secondary nodes will replicate the data from the primary node.\n",
    "* While the primary node is the only instance that accepts write operations, any other node within a replica set can accept read operations. These can be configured through a supported MongoDB client.\n",
    "* In an event where the primary node is unavailable or inoperable, a secondary node will take the primary node’s role to provide continuous availability of data. In such a case, the primary node selection is made through a process called Replica Set Elections, where the most suitable secondary node is selected as the new primary node.\n"
   ]
  },
  {
   "cell_type": "markdown",
   "id": "6e6b913f",
   "metadata": {},
   "source": [
    "### 2. What are some of NodeJs' features?"
   ]
  },
  {
   "cell_type": "markdown",
   "id": "862301ac",
   "metadata": {},
   "source": [
    "Ans: Features of Node.js\n",
    "\n",
    "Following are some of the important features that make Node.js the first choice of software architects.\n",
    "\n",
    "* **Asynchronous and Event-Driven**: The Node.js library’s APIs are all asynchronous (non-blocking) in nature. A server built with Node.JS never waits for data from an API. from an API. After accessing an API, the server moves on to the next one. In order to receive and track responses of previous API requests, it uses a notification mechanism called Events.\n",
    "\n",
    "* **Single-Threaded**: Node.js employs a single-threaded architecture with event looping, making it very scalable. In contrast to typical servers, which create limited threads to process requests, the event mechanism allows the node.js server to reply in a non-blocking manner and makes it more scalable. When compared to traditional servers like Apache HTTP Server, Node.js uses a single-threaded program that can handle a considerably larger number of requests.\n",
    "\n",
    "* **Scalable**: NodeJs addresses one of the most pressing concerns in software development: scalability. Nowadays, most organizations demand scalable software. NodeJs can also handle concurrent requests efficiently. It has a cluster module that manages load balancing for all CPU cores that are active. The capability of NodeJs to partition applications horizontally is its most appealing feature. It achieves this through the use of child processes. This allows the organizations to provide distinct app versions to different target audiences, allowing them to cater to client preferences for customization.\n",
    "\n",
    "* **Quick execution of code**: Node.js makes use of the V8 JavaScript Runtime motor, which is also used by Google Chrome. Hub provides a wrapper for the JavaScript motor, which makes the runtime motor faster. As a result, the preparation of requests inside Node.js becomes faster as well.\n",
    "\n",
    "* **Cross-platform compatibility**: NodeJS may be used on a variety of systems, including Windows, Unix, Linux, Mac OS X, and mobile devices. It can be paired with the appropriate package to generate a self-sufficient executable.\n",
    "\n",
    "* **Uses JavaScript**: JavaScript is used by the Node.js library, which is another important aspect of Node.js from the engineer’s perspective. Most of the engineers are already familiar with JavaScript. As a result, a designer who is familiar with JavaScript will find that working with Node.js is much easier.\n",
    "\n",
    "* **Fast data streaming**: When data is transmitted in multiple streams, processing them takes a long time. Node.js processes data at a very fast rate. It processes and uploads a file simultaneously, thereby saving a lot of time. As a result, NodeJs improves the overall speed of data and video streaming.\n",
    "\n",
    "* **No Buffering**: In a Node.js application, data is never buffered."
   ]
  },
  {
   "cell_type": "markdown",
   "id": "e8c17f36",
   "metadata": {},
   "source": [
    "### 3. What is MongoDB's database type?"
   ]
  },
  {
   "cell_type": "raw",
   "id": "125b4305",
   "metadata": {},
   "source": [
    "Ans: MongoDB is a document-oriented NoSQL database used for high volume data storage. Instead of using tables and rows as in the traditional relational databases, MongoDB makes use of collections and documents. Documents consist of key-value pairs which are the basic unit of data in MongoDB. Collections contain sets of documents and function which is the equivalent of relational database tables."
   ]
  },
  {
   "cell_type": "markdown",
   "id": "59eda187",
   "metadata": {},
   "source": [
    "### 4. How does Node prevent code from being blocked?"
   ]
  },
  {
   "cell_type": "raw",
   "id": "1b72c9a3",
   "metadata": {},
   "source": [
    "Ans: Node.js is a cross-platform JavaScript runtime environment that helps to execute and implement server-side programs. Node is assumed to prevent blocking code by using a single-threaded event loop.\n",
    "blocking code can be said to work synchronously while non-blocking code works asynchronously. While discussing non-blocking code, we come up with a term called callback. The callback is a function that is invoked when a process completes its execution and wants to continue its normal execution with the outer function.\n",
    "Node uses a single thread, which means one task can be executed at a time. This is done by using a stack. While reading the code from top to bottom, each instruction is pushed into a stack and when its execution is completed, it pops out of the stack. Now we may come across an instruction/function that will take a longer time to execute which can result in the delay in popping the stack and execution of further statements. \n",
    "\n",
    "So what Node.js allows is the use of Event Loop. Each time when we encounter such a situation, the process causing the delay is offloaded from the stack and the execution of that process continues parallel to further execution of the main code. Thus, the callback for that function is pushed into a task queue and the code continues to execute asynchronously. When the process completes its execution, the callback function returns the desired output from that process and resumes normal execution.\n",
    "Example,\n",
    "\n",
    "<script>\n",
    "// Simple JavaScript Code to show Event\n",
    "// loop demonstration for Node\n",
    "console.log(\"Geeks\");\n",
    "\n",
    "// Printing Geeks after 3 seconds\n",
    "setTimeout(function cb() {\n",
    "\tconsole.log(\"Geeks\");\n",
    "}, 3000);\n",
    "\n",
    "console.log(\"For\");\n",
    "</script>\n",
    "\n"
   ]
  },
  {
   "cell_type": "markdown",
   "id": "e3f69deb",
   "metadata": {},
   "source": [
    "### 5. What exactly do you mean when you say \"pure components\"?"
   ]
  },
  {
   "cell_type": "raw",
   "id": "434db5b7",
   "metadata": {},
   "source": [
    "\n",
    "Ans: Pure Components are introduced for performance enhancement. You can use this optimization to improve the performance of your components.Pure Components in React are the components which do not re-renders when the value of state and props has been updated with the same values. If the value of the previous state or props and the new state or props is the same, the component is not re-rendered. Pure Components restricts the re-rendering ensuring the higher performance of the Component.\n",
    "React component is considered a Pure Component if it renders the same output for the same state and props value. React provides the PureComponent base class for these class components. Class components that extend the React.PureComponent class are treated as pure components.\n",
    "In the case of Pure Components, the React components do not re-render blindly without considering the updated values of React “props” and “state”. If updated values are the same as previous values, render is not triggered.Pure Components, in the case when the props and state changes are made to primitive type variable, state and props changes to reference variable may lead to incorrect results and inconsistent rendering.\n",
    "Example:\n",
    "\n",
    "\n",
    "import React from ‘react’;\n",
    "\n",
    "export default class Test extends React.PureComponent{\n",
    "render(){\n",
    "\treturn <h1>Welcome to Ineuron</h1>;\n",
    "}\n",
    "}\n"
   ]
  }
 ],
 "metadata": {
  "kernelspec": {
   "display_name": "Python 3",
   "language": "python",
   "name": "python3"
  },
  "language_info": {
   "codemirror_mode": {
    "name": "ipython",
    "version": 3
   },
   "file_extension": ".py",
   "mimetype": "text/x-python",
   "name": "python",
   "nbconvert_exporter": "python",
   "pygments_lexer": "ipython3",
   "version": "3.8.8"
  }
 },
 "nbformat": 4,
 "nbformat_minor": 5
}
